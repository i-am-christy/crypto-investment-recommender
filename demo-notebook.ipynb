{
 "cells": [
  {
   "cell_type": "markdown",
   "id": "d60fb600",
   "metadata": {},
   "source": [
    "## Crypto Investment Recommender - Demo Walkthrough\n",
    "\n",
    "This notebook demonstrates how a simple, **rule-based statistical recommender model** evaluates crypto assets using recent market data.\n",
    "\n",
    "Instead of using machine learning, it applies **statistical and financial heuristics** to measure:\n",
    "- Momentum (recent price trends)\n",
    "- Value (distance from highs/lows, recovery potential)\n",
    "- Stability (volatility, market cap strength)\n",
    "- Market position (dominance and liquidity)\n",
    "\n",
    "The system produces an **investment score** (0–100) and a **recommendation** such as “Strong Buy” or “Hold”, based on explainable financial logic."
   ]
  },
  {
   "cell_type": "markdown",
   "id": "58dc0bfd",
   "metadata": {},
   "source": [
    "In this section, I imported the key components of my workflow, data collection and feature engineering modules.</br>\n",
    "I’ll use a subset of coins to demonstrate how the rule-based recommender works."
   ]
  },
  {
   "cell_type": "code",
   "execution_count": 8,
   "id": "533ee2cd",
   "metadata": {},
   "outputs": [
    {
     "name": "stderr",
     "output_type": "stream",
     "text": [
      "2025-10-23 22:45:19,995 INFO: Loaded market data: 21 rows\n",
      "2025-10-23 22:45:19,996 INFO: Loaded historical data: 2366 rows\n"
     ]
    }
   ],
   "source": [
    "import pandas as pd\n",
    "from src.feature_engineer import CryptoFeatureEngineer\n",
    "\n",
    "MARKET_PATH = r\"data/raw/crypto_market_data.csv\"\n",
    "HIST_PATH = r\"data/raw/crypto_historical_data.csv\"\n",
    "OUTPUT_PATH = r\"data/processed/crypto_features.csv\"\n",
    "\n",
    "# Initialize the feature engineer\n",
    "engineer = CryptoFeatureEngineer(MARKET_PATH, HIST_PATH)\n"
   ]
  },
  {
   "cell_type": "markdown",
   "id": "76adddf9",
   "metadata": {},
   "source": [
    "In the cell above, I imported `CryptoFeatureEngineer` class from our script. <br> \n",
    "It loads the **market snapshot** and **historical price data** into pandas DataFrames.<br> \n",
    "\n",
    "These CSVs come from the CoinGecko API and contain metrics like current price, 24h high/low, and market cap.\n"
   ]
  },
  {
   "cell_type": "code",
   "execution_count": 9,
   "id": "beb59898",
   "metadata": {},
   "outputs": [
    {
     "name": "stderr",
     "output_type": "stream",
     "text": [
      "2025-10-23 22:46:25,079 INFO: Calculating momentum features\n"
     ]
    },
    {
     "data": {
      "text/plain": [
       "<src.feature_engineer.CryptoFeatureEngineer at 0x240409a7e90>"
      ]
     },
     "execution_count": 9,
     "metadata": {},
     "output_type": "execute_result"
    }
   ],
   "source": [
    "engineer.calculate_momentum_features()"
   ]
  },
  {
   "cell_type": "markdown",
   "id": "5f47a072",
   "metadata": {},
   "source": [
    "### What This Does\n",
    "- Calculates **momentum indicators** (1h, 24h, 7d) from available price change columns.\n",
    "- Combines them into a single `momentum_score` (weighted 30%-30%-40%).\n",
    "- Adds **volume-to-market-cap ratio** as a liquidity signal.\n",
    "- Adds **market cap change percentage** for trend strength.\n",
    "\n",
    "**Why:**  \n",
    "Momentum captures short-term direction, coins with positive or rising momentum may indicate active investor confidence.\n",
    "\n",
    "**Alternative Approach:**  \n",
    "You could compute momentum from historical returns directly (using rolling averages or RSI), but this simpler snapshot-based approach avoids overcomplication for small datasets."
   ]
  },
  {
   "cell_type": "code",
   "execution_count": 10,
   "id": "6f81ade2",
   "metadata": {},
   "outputs": [
    {
     "name": "stderr",
     "output_type": "stream",
     "text": [
      "2025-10-23 22:47:01,303 INFO: Calculating value features\n"
     ]
    },
    {
     "data": {
      "text/plain": [
       "<src.feature_engineer.CryptoFeatureEngineer at 0x240409a7e90>"
      ]
     },
     "execution_count": 10,
     "metadata": {},
     "output_type": "execute_result"
    }
   ],
   "source": [
    "engineer.calculate_value_features()"
   ]
  },
  {
   "cell_type": "markdown",
   "id": "a2de1ce6",
   "metadata": {},
   "source": [
    "### What This Does\n",
    "Creates features describing whether a coin is **overvalued or undervalued**:\n",
    "- `distance_from_ath`: how far the price is from its all-time high.\n",
    "- `recovery_potential`: combines momentum + distance from ATH to find “rebounding” assets.\n",
    "- `growth_from_atl`: percent growth since all-time low.\n",
    "- `price_range_24h`: daily volatility range.\n",
    "- `scarcity_score`: based on circulating vs total supply.\n",
    "\n",
    "**Why:**  \n",
    "This helps spot coins that may be temporarily undervalued or rebounding after a dip.\n"
   ]
  },
  {
   "cell_type": "code",
   "execution_count": 11,
   "id": "9924f260",
   "metadata": {},
   "outputs": [
    {
     "name": "stderr",
     "output_type": "stream",
     "text": [
      "2025-10-23 22:47:25,412 INFO: Calculating stability features\n",
      "2025-10-23 22:47:25,414 INFO: Calculating historical volatility per coin\n"
     ]
    },
    {
     "data": {
      "text/plain": [
       "<src.feature_engineer.CryptoFeatureEngineer at 0x240409a7e90>"
      ]
     },
     "execution_count": 11,
     "metadata": {},
     "output_type": "execute_result"
    }
   ],
   "source": [
    "engineer.calculate_stability_features()"
   ]
  },
  {
   "cell_type": "markdown",
   "id": "1c0d9783",
   "metadata": {},
   "source": [
    "### What This Does\n",
    "Assesses **risk and consistency** of an asset:\n",
    "- Computes **volatility** from historical prices if available.\n",
    "- Normalizes **market cap** and **volume** to 0–100 scores.\n",
    "- Combines them into a single **stability_score**.\n",
    "\n",
    "**Why:**  \n",
    "Stable coins (lower volatility, high market cap) are less risky.  \n",
    "This mirrors institutional portfolio risk metrics.\n",
    "\n"
   ]
  },
  {
   "cell_type": "code",
   "execution_count": 12,
   "id": "efdc6d6d",
   "metadata": {},
   "outputs": [
    {
     "name": "stderr",
     "output_type": "stream",
     "text": [
      "2025-10-23 22:48:20,864 INFO: Calculating market position features\n"
     ]
    },
    {
     "data": {
      "text/plain": [
       "<src.feature_engineer.CryptoFeatureEngineer at 0x240409a7e90>"
      ]
     },
     "execution_count": 12,
     "metadata": {},
     "output_type": "execute_result"
    }
   ],
   "source": [
    "engineer.calculate_market_position_features()"
   ]
  },
  {
   "cell_type": "markdown",
   "id": "33536071",
   "metadata": {},
   "source": [
    "### What This Does\n",
    "Measures how strong a coin is relative to others:\n",
    "- `rank_score`: higher for top-ranked coins by market cap.\n",
    "- `market_dominance`: coin’s share of total market cap.\n",
    "- `liquidity_score`: based on trading volume relative to market size.\n",
    "- `market_tier`: categorizes coins as “Blue Chip,” “Large Cap,” “Mid Cap,” or “Small Cap.”\n",
    "\n",
    "**Why:**  \n",
    "Top coins tend to have better liquidity and investor trust, influencing long-term sustainability.\n"
   ]
  },
  {
   "cell_type": "code",
   "execution_count": 13,
   "id": "18126e3e",
   "metadata": {},
   "outputs": [
    {
     "name": "stderr",
     "output_type": "stream",
     "text": [
      "2025-10-23 22:48:58,457 INFO: Calculating composite investment score\n"
     ]
    },
    {
     "data": {
      "text/plain": [
       "<src.feature_engineer.CryptoFeatureEngineer at 0x240409a7e90>"
      ]
     },
     "execution_count": 13,
     "metadata": {},
     "output_type": "execute_result"
    }
   ],
   "source": [
    "engineer.calculate_composite_investment_score()"
   ]
  },
  {
   "cell_type": "markdown",
   "id": "ed6a1a99",
   "metadata": {},
   "source": [
    "### What This Does\n",
    "Combines normalized features into a single **investment_score (0–100)**:\n",
    "- Momentum (35%)\n",
    "- Recovery potential (25%)\n",
    "- Stability (20%)\n",
    "- Market rank (20%)\n",
    "\n",
    "**Why:**  \n",
    "This weighted average produces a balanced, interpretable score that reflects both short-term and long-term appeal.\n"
   ]
  },
  {
   "cell_type": "code",
   "execution_count": 14,
   "id": "7a11a93f",
   "metadata": {},
   "outputs": [
    {
     "name": "stderr",
     "output_type": "stream",
     "text": [
      "2025-10-23 22:49:13,238 INFO: Classifying risk levels\n",
      "2025-10-23 22:49:13,242 INFO: Generating recommendations\n"
     ]
    },
    {
     "data": {
      "text/plain": [
       "<src.feature_engineer.CryptoFeatureEngineer at 0x240409a7e90>"
      ]
     },
     "execution_count": 14,
     "metadata": {},
     "output_type": "execute_result"
    }
   ],
   "source": [
    "engineer.classify_risk_levels()\n",
    "engineer.generate_recommendations()"
   ]
  },
  {
   "cell_type": "markdown",
   "id": "d38d0754",
   "metadata": {},
   "source": [
    "### What This Does\n",
    "- Classifies coins into risk levels (`Conservative`, `Moderate`, `Aggressive`)  \n",
    "  based on volatility and rank.\n",
    "- Generates **recommendations**:\n",
    "  - Strong Buy\n",
    "  - Buy\n",
    "  - Moderate Buy\n",
    "  - Hold\n",
    "  - Avoid/Sell\n",
    "- Creates a **reasoning** text that summarizes each asset’s signals.\n",
    "\n",
    "**Why:**  \n",
    "These labels make the output easy for non-technical users or investors to understand.\n"
   ]
  },
  {
   "cell_type": "code",
   "execution_count": 16,
   "id": "279b934c",
   "metadata": {},
   "outputs": [
    {
     "name": "stderr",
     "output_type": "stream",
     "text": [
      "2025-10-23 22:49:41,758 INFO: Saved features to data/processed/crypto_features.csv (rows=21)\n"
     ]
    },
    {
     "data": {
      "text/html": [
       "<div>\n",
       "<style scoped>\n",
       "    .dataframe tbody tr th:only-of-type {\n",
       "        vertical-align: middle;\n",
       "    }\n",
       "\n",
       "    .dataframe tbody tr th {\n",
       "        vertical-align: top;\n",
       "    }\n",
       "\n",
       "    .dataframe thead th {\n",
       "        text-align: right;\n",
       "    }\n",
       "</style>\n",
       "<table border=\"1\" class=\"dataframe\">\n",
       "  <thead>\n",
       "    <tr style=\"text-align: right;\">\n",
       "      <th></th>\n",
       "      <th>id</th>\n",
       "      <th>current_price</th>\n",
       "      <th>market_cap</th>\n",
       "      <th>market_cap_rank</th>\n",
       "      <th>momentum_score</th>\n",
       "      <th>recovery_potential</th>\n",
       "      <th>stability_score</th>\n",
       "      <th>rank_score</th>\n",
       "      <th>investment_score</th>\n",
       "      <th>risk_level</th>\n",
       "      <th>recommendation</th>\n",
       "      <th>reasoning</th>\n",
       "      <th>volatility_score</th>\n",
       "      <th>volume_to_mcap_ratio</th>\n",
       "      <th>market_tier</th>\n",
       "      <th>distance_from_ath</th>\n",
       "      <th>liquidity_score</th>\n",
       "      <th>market_dominance</th>\n",
       "    </tr>\n",
       "  </thead>\n",
       "  <tbody>\n",
       "    <tr>\n",
       "      <th>3</th>\n",
       "      <td>binancecoin</td>\n",
       "      <td>1116.26</td>\n",
       "      <td>155347403895</td>\n",
       "      <td>4</td>\n",
       "      <td>1.695099</td>\n",
       "      <td>80.508530</td>\n",
       "      <td>50.255985</td>\n",
       "      <td>94.545455</td>\n",
       "      <td>82.511266</td>\n",
       "      <td>Moderate</td>\n",
       "      <td>Strong Buy</td>\n",
       "      <td>Positive momentum (+1.7%), market leader.</td>\n",
       "      <td>0.875837</td>\n",
       "      <td>2.986966</td>\n",
       "      <td>Blue Chip</td>\n",
       "      <td>18.46038</td>\n",
       "      <td>24.531696</td>\n",
       "      <td>4.473812</td>\n",
       "    </tr>\n",
       "    <tr>\n",
       "      <th>5</th>\n",
       "      <td>solana</td>\n",
       "      <td>189.10</td>\n",
       "      <td>103386811229</td>\n",
       "      <td>6</td>\n",
       "      <td>1.618724</td>\n",
       "      <td>60.485617</td>\n",
       "      <td>54.632082</td>\n",
       "      <td>90.909091</td>\n",
       "      <td>72.058014</td>\n",
       "      <td>Moderate</td>\n",
       "      <td>Buy</td>\n",
       "      <td>Positive momentum (+1.6%), established player.</td>\n",
       "      <td>0.776916</td>\n",
       "      <td>6.352634</td>\n",
       "      <td>Large Cap</td>\n",
       "      <td>35.56898</td>\n",
       "      <td>52.173632</td>\n",
       "      <td>2.977411</td>\n",
       "    </tr>\n",
       "    <tr>\n",
       "      <th>0</th>\n",
       "      <td>bitcoin</td>\n",
       "      <td>109714.00</td>\n",
       "      <td>2187787558021</td>\n",
       "      <td>1</td>\n",
       "      <td>0.743573</td>\n",
       "      <td>70.223072</td>\n",
       "      <td>74.269289</td>\n",
       "      <td>100.000000</td>\n",
       "      <td>70.261433</td>\n",
       "      <td>Conservative</td>\n",
       "      <td>Buy</td>\n",
       "      <td>Positive momentum (+0.7%), market leader, low ...</td>\n",
       "      <td>0.499803</td>\n",
       "      <td>2.711408</td>\n",
       "      <td>Blue Chip</td>\n",
       "      <td>12.99098</td>\n",
       "      <td>22.268564</td>\n",
       "      <td>63.005558</td>\n",
       "    </tr>\n",
       "    <tr>\n",
       "      <th>1</th>\n",
       "      <td>ethereum</td>\n",
       "      <td>3833.06</td>\n",
       "      <td>462958978711</td>\n",
       "      <td>2</td>\n",
       "      <td>0.710805</td>\n",
       "      <td>80.213242</td>\n",
       "      <td>61.062048</td>\n",
       "      <td>98.181818</td>\n",
       "      <td>69.463633</td>\n",
       "      <td>Conservative</td>\n",
       "      <td>Buy</td>\n",
       "      <td>Positive momentum (+0.7%), market leader, low ...</td>\n",
       "      <td>0.703261</td>\n",
       "      <td>7.283043</td>\n",
       "      <td>Blue Chip</td>\n",
       "      <td>22.43412</td>\n",
       "      <td>59.815006</td>\n",
       "      <td>13.332642</td>\n",
       "    </tr>\n",
       "    <tr>\n",
       "      <th>2</th>\n",
       "      <td>tether</td>\n",
       "      <td>1.00</td>\n",
       "      <td>182593125527</td>\n",
       "      <td>3</td>\n",
       "      <td>0.002266</td>\n",
       "      <td>80.000680</td>\n",
       "      <td>95.300080</td>\n",
       "      <td>96.363636</td>\n",
       "      <td>68.788143</td>\n",
       "      <td>Conservative</td>\n",
       "      <td>Buy</td>\n",
       "      <td>Positive momentum (+0.0%), market leader, low ...</td>\n",
       "      <td>0.006408</td>\n",
       "      <td>58.993155</td>\n",
       "      <td>Blue Chip</td>\n",
       "      <td>24.38332</td>\n",
       "      <td>100.000000</td>\n",
       "      <td>5.258455</td>\n",
       "    </tr>\n",
       "  </tbody>\n",
       "</table>\n",
       "</div>"
      ],
      "text/plain": [
       "            id  current_price     market_cap  market_cap_rank  momentum_score  \\\n",
       "3  binancecoin        1116.26   155347403895                4        1.695099   \n",
       "5       solana         189.10   103386811229                6        1.618724   \n",
       "0      bitcoin      109714.00  2187787558021                1        0.743573   \n",
       "1     ethereum        3833.06   462958978711                2        0.710805   \n",
       "2       tether           1.00   182593125527                3        0.002266   \n",
       "\n",
       "   recovery_potential  stability_score  rank_score  investment_score  \\\n",
       "3           80.508530        50.255985   94.545455         82.511266   \n",
       "5           60.485617        54.632082   90.909091         72.058014   \n",
       "0           70.223072        74.269289  100.000000         70.261433   \n",
       "1           80.213242        61.062048   98.181818         69.463633   \n",
       "2           80.000680        95.300080   96.363636         68.788143   \n",
       "\n",
       "     risk_level recommendation  \\\n",
       "3      Moderate     Strong Buy   \n",
       "5      Moderate            Buy   \n",
       "0  Conservative            Buy   \n",
       "1  Conservative            Buy   \n",
       "2  Conservative            Buy   \n",
       "\n",
       "                                           reasoning  volatility_score  \\\n",
       "3          Positive momentum (+1.7%), market leader.          0.875837   \n",
       "5     Positive momentum (+1.6%), established player.          0.776916   \n",
       "0  Positive momentum (+0.7%), market leader, low ...          0.499803   \n",
       "1  Positive momentum (+0.7%), market leader, low ...          0.703261   \n",
       "2  Positive momentum (+0.0%), market leader, low ...          0.006408   \n",
       "\n",
       "   volume_to_mcap_ratio market_tier  distance_from_ath  liquidity_score  \\\n",
       "3              2.986966   Blue Chip           18.46038        24.531696   \n",
       "5              6.352634   Large Cap           35.56898        52.173632   \n",
       "0              2.711408   Blue Chip           12.99098        22.268564   \n",
       "1              7.283043   Blue Chip           22.43412        59.815006   \n",
       "2             58.993155   Blue Chip           24.38332       100.000000   \n",
       "\n",
       "   market_dominance  \n",
       "3          4.473812  \n",
       "5          2.977411  \n",
       "0         63.005558  \n",
       "1         13.332642  \n",
       "2          5.258455  "
      ]
     },
     "execution_count": 16,
     "metadata": {},
     "output_type": "execute_result"
    }
   ],
   "source": [
    "out_df = engineer.save_features(OUTPUT_PATH)\n",
    "out_df.head()"
   ]
  },
  {
   "cell_type": "markdown",
   "id": "eab377fa",
   "metadata": {},
   "source": [
    "### What This Does\n",
    "Saves the engineered dataset to `data/processed/crypto_features.csv`  \n",
    "and displays the top 10 coins ranked by `investment_score`.\n",
    "\n",
    "Each row shows:\n",
    "- Risk level\n",
    "- Recommendation\n",
    "- Reasoning (momentum, liquidity, etc.)\n"
   ]
  },
  {
   "cell_type": "code",
   "execution_count": 17,
   "id": "32c306e7",
   "metadata": {},
   "outputs": [
    {
     "data": {
      "image/png": "[encoded data removed]",
      "text/plain": [
       "<Figure size 800x400 with 1 Axes>"
      ]
     },
     "metadata": {},
     "output_type": "display_data"
    }
   ],
   "source": [
    "import matplotlib.pyplot as plt\n",
    "\n",
    "top_coins = out_df.head(5)\n",
    "plt.figure(figsize=(8,4))\n",
    "plt.barh(top_coins['id'], top_coins['investment_score'], color='royalblue')\n",
    "plt.gca().invert_yaxis()\n",
    "plt.title(\"Top 5 Recommended Crypto Assets\")\n",
    "plt.xlabel(\"Investment Score (0–100)\")\n",
    "plt.show()\n"
   ]
  },
  {
   "cell_type": "markdown",
   "id": "dd201b9f",
   "metadata": {},
   "source": [
    "This bar chart shows the top investment candidates according to the model’s scoring system.\n"
   ]
  },
  {
   "cell_type": "markdown",
   "id": "945a456c",
   "metadata": {},
   "source": [
    "### Summary\n",
    "This rule-based approach demonstrates how explainable, interpretable metrics\n",
    "can drive crypto asset ranking without requiring deep learning or complex models.\n",
    "\n",
    "**Key Strengths:**\n",
    "- Fully transparent logic\n",
    "- Easy to explain and justify to stakeholders\n",
    "- Extendable into an ML-based system later\n"
   ]
  },
  {
   "cell_type": "markdown",
   "id": "e6e73c09",
   "metadata": {},
   "source": []
  }
 ],
 "metadata": {
  "kernelspec": {
   "display_name": "crypto-recommender",
   "language": "python",
   "name": "python3"
  },
  "language_info": {
   "codemirror_mode": {
    "name": "ipython",
    "version": 3
   },
   "file_extension": ".py",
   "mimetype": "text/x-python",
   "name": "python",
   "nbconvert_exporter": "python",
   "pygments_lexer": "ipython3",
   "version": "3.12.1"
  }
 },
 "nbformat": 4,
 "nbformat_minor": 5
}
